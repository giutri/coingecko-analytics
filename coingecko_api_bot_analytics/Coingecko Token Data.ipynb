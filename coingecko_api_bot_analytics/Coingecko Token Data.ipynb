{
 "cells": [
  {
   "cell_type": "code",
   "execution_count": null,
   "source": [
    "import numpy as np\n",
    "import pandas as pd\n",
    "import requests\n",
    "from difflib import SequenceMatcher\n",
    "from tqdm import tqdm_notebook\n",
    "from time import sleep"
   ],
   "outputs": [],
   "metadata": {}
  },
  {
   "cell_type": "code",
   "execution_count": null,
   "source": [
    "apiBaseURL = 'https://api.coingecko.com/api/v3/'"
   ],
   "outputs": [],
   "metadata": {}
  },
  {
   "cell_type": "code",
   "execution_count": null,
   "source": [
    "contractAddress = 'OxCONTRACT_ADDRESS'"
   ],
   "outputs": [],
   "metadata": {}
  },
  {
   "cell_type": "code",
   "execution_count": null,
   "source": [
    "def getCoinMarketData(coinId, vs_currency, days, interval):\n",
    "    url = apiBaseURL+'coins/'+coinId+'/market_chart/?vs_currency='+vs_currency+'&days='+days+'&interval='+interval\n",
    "    r = requests.get(url)\n",
    "    \n",
    "    if (r.status_code == 200):\n",
    "        res = r.json()\n",
    "        df = pd.DataFrame(res['prices'])\n",
    "        df = df.set_index(0)\n",
    "        df.index = pd.to_datetime(df.index, unit='ms')\n",
    "        s = df.squeeze()\n",
    "        \n",
    "        df2 = pd.DataFrame(res['total_volumes'])\n",
    "        df2 = df2.set_index(0)\n",
    "        df2.index = pd.to_datetime(df2.index, unit='ms')\n",
    "        v = df2.squeeze()\n",
    "        return s, v\n",
    "    else:\n",
    "        print('price data - request error')\n",
    "        return {}"
   ],
   "outputs": [],
   "metadata": {}
  },
  {
   "cell_type": "code",
   "execution_count": null,
   "source": [
    "def getCoinInfo(coinId):\n",
    "    url = apiBaseURL+'coins/'+coinId\n",
    "    r = requests.get(url)\n",
    "    \n",
    "    if (r.status_code == 200):\n",
    "        res = r.json()\n",
    "        return res\n",
    "    else:\n",
    "        print('request error')\n",
    "        return {}"
   ],
   "outputs": [],
   "metadata": {}
  },
  {
   "cell_type": "code",
   "execution_count": null,
   "source": [
    "def getCoinList():\n",
    "    url = apiBaseURL+'coins/list'\n",
    "    r = requests.get(url)\n",
    "    \n",
    "    if (r.status_code == 200):\n",
    "        res = r.json()\n",
    "        return res\n",
    "    else:\n",
    "        print('request error')\n",
    "        return {}"
   ],
   "outputs": [],
   "metadata": {}
  },
  {
   "cell_type": "code",
   "execution_count": null,
   "source": [
    "def getCoinInfoByAddr(chainId, contractAddress):\n",
    "    url = apiBaseURL+'coins/'+chainId+'/contract/'+contractAddress\n",
    "    r = requests.get(url)\n",
    "    \n",
    "    if (r.status_code == 200):\n",
    "        res = r.json()\n",
    "        return res\n",
    "    else:\n",
    "        print('request error')\n",
    "        return {}"
   ],
   "outputs": [],
   "metadata": {}
  },
  {
   "cell_type": "code",
   "execution_count": null,
   "source": [
    "def getCoinCategories():\n",
    "    url = apiBaseURL+'coins/categories/list'\n",
    "    r = requests.get(url)\n",
    "    \n",
    "    if (r.status_code == 200):\n",
    "        res = r.json()\n",
    "        return res\n",
    "    else:\n",
    "        print('request error')\n",
    "        return {}"
   ],
   "outputs": [],
   "metadata": {}
  },
  {
   "cell_type": "code",
   "execution_count": null,
   "source": [
    "def getTokenInfoFields(e, useFields):\n",
    "    l = []\n",
    "    for field in useFields:\n",
    "        l.append(e[field])\n",
    "    return pd.Series(l, index=useFields)"
   ],
   "outputs": [],
   "metadata": {}
  },
  {
   "cell_type": "code",
   "execution_count": null,
   "source": [
    "def getImageURL(e):\n",
    "    return pd.Series([e['image']['large']], index=['image'])"
   ],
   "outputs": [],
   "metadata": {}
  },
  {
   "cell_type": "code",
   "execution_count": null,
   "source": [
    "def getTokenNestedInfo(e, nested_field_name, useNestedFields):\n",
    "    devData = None\n",
    "    if (type(e[nested_field_name]) == type([])):\n",
    "        devData = e[nested_field_name][0]\n",
    "    else:\n",
    "        devData = e[nested_field_name]\n",
    "    l = []\n",
    "    for field in useNestedFields:\n",
    "        l.append(devData[field])\n",
    "    return pd.Series(l, index=useNestedFields)"
   ],
   "outputs": [],
   "metadata": {}
  },
  {
   "cell_type": "code",
   "execution_count": null,
   "source": [
    "def processCoinInfo(e):\n",
    "    \n",
    "    useFields = ['id',\n",
    "     'symbol',\n",
    "     'name',\n",
    "     'asset_platform_id',\n",
    "     'categories',\n",
    "     'contract_address',\n",
    "     'sentiment_votes_up_percentage',\n",
    "     'sentiment_votes_down_percentage',\n",
    "     'market_cap_rank',\n",
    "     'coingecko_rank',\n",
    "     'coingecko_score',\n",
    "     'developer_score',\n",
    "     'community_score',\n",
    "     'liquidity_score',\n",
    "     'public_interest_score'\n",
    "    ]\n",
    "\n",
    "    useDevFields = [\n",
    "        'forks',\n",
    "        'stars',\n",
    "        'subscribers',\n",
    "        'total_issues',\n",
    "        'closed_issues',\n",
    "        'commit_count_4_weeks'\n",
    "    ]\n",
    "\n",
    "    useLinkFields = [\n",
    "        'homepage',\n",
    "        'blockchain_site',\n",
    "        'telegram_channel_identifier',\n",
    "        'twitter_screen_name',\n",
    "        'facebook_username'\n",
    "    ]\n",
    "\n",
    "    useTickerFields = [\n",
    "        'target',\n",
    "        'volume',\n",
    "        'trust_score',\n",
    "        'is_anomaly',\n",
    "        'is_stale'\n",
    "    ]\n",
    "\n",
    "    useMarketFields = [\n",
    "        'total_supply',\n",
    "        'circulating_supply',\n",
    "        'max_supply',\n",
    "    ]\n",
    "\n",
    "    useCommunityFields = [\n",
    "        'facebook_likes',\n",
    "        'twitter_followers',\n",
    "        'reddit_average_posts_48h',\n",
    "        'reddit_average_comments_48h',\n",
    "        'reddit_subscribers',\n",
    "        'reddit_accounts_active_48h',\n",
    "        'telegram_channel_user_count',\n",
    "    ]\n",
    "\n",
    "    s_info = getTokenInfoFields(e, useFields)\n",
    "    s_dev = getTokenNestedInfo(e, 'developer_data', useDevFields)\n",
    "    s_ticker = getTokenNestedInfo(e, 'tickers', useTickerFields)\n",
    "    s_market = getTokenNestedInfo(e, 'market_data', useMarketFields)\n",
    "    s_community = getTokenNestedInfo(e, 'community_data', useCommunityFields)\n",
    "    return pd.concat([s_info, s_dev, s_ticker, s_market, s_community])"
   ],
   "outputs": [],
   "metadata": {}
  },
  {
   "cell_type": "code",
   "execution_count": null,
   "source": [
    "def processPriceInfo(priceSeries):\n",
    "    r = priceSeries.pct_change()\n",
    "    sk = pd.Series([r.skew(), r.kurtosis()], index=['skew', 'kurt'])\n",
    "    return pd.concat([r.describe(), sk])"
   ],
   "outputs": [],
   "metadata": {}
  },
  {
   "cell_type": "code",
   "execution_count": null,
   "source": [
    "def combineCoinInfo(e, priceSeries):\n",
    "    coinInfo = processCoinInfo(e)\n",
    "    priceInfo = processPriceInfo(priceSeries)\n",
    "    return pd.concat([coinInfo, priceInfo])"
   ],
   "outputs": [],
   "metadata": {}
  },
  {
   "cell_type": "code",
   "execution_count": null,
   "source": [
    "def getListedCoinNames(field):\n",
    "    coinList = getCoinList()\n",
    "    l = []\n",
    "    for coin in coinList:\n",
    "        l.append(coin[field].lower())\n",
    "    return l"
   ],
   "outputs": [],
   "metadata": {}
  },
  {
   "cell_type": "code",
   "execution_count": null,
   "source": [
    "def getCategoryNames():\n",
    "    categoryList = getCoinCategories()\n",
    "    l = []\n",
    "    for cat in categoryList:\n",
    "        l.append(cat['name'].lower())\n",
    "    return l"
   ],
   "outputs": [],
   "metadata": {}
  },
  {
   "cell_type": "code",
   "execution_count": null,
   "source": [
    "def getClosestNameMatch(coinList, coinId):\n",
    "    max_sim = 0\n",
    "    closestName = ''\n",
    "    for name in coinList:\n",
    "        sim = SequenceMatcher(None, coinId, name).ratio()\n",
    "        if (sim > max_sim):\n",
    "            max_sim = sim\n",
    "            closestName = name\n",
    "    return closestName"
   ],
   "outputs": [],
   "metadata": {}
  },
  {
   "cell_type": "markdown",
   "source": [
    "## run scripts"
   ],
   "metadata": {}
  },
  {
   "cell_type": "code",
   "execution_count": null,
   "source": [
    "def getAllCoinData(coinList, startIdx, endIdx):\n",
    "    i = 0\n",
    "    for coinId in tqdm_notebook(coinList[startIdx:endIdx]):\n",
    "        \n",
    "        if i % 25 == 0:\n",
    "            print('waiting...')\n",
    "            sleep(60)\n",
    "            print('done. continuing...')\n",
    "            \n",
    "        try:\n",
    "            priceSeries, _ = getCoinMarketData(coinId, 'usd', 'max', 'daily')\n",
    "            otherInfo = getCoinInfo(coinId)\n",
    "            allInfo = combineCoinInfo(otherInfo, priceSeries)\n",
    "            allInfo.to_csv('tokenData/'+coinId+'.csv')\n",
    "            print('Index:', i, '| Id:', coinId, '| Success.')\n",
    "            \n",
    "        except:\n",
    "            print('Index:', i, '| Id:', coinId, '| Error.')\n",
    "            \n",
    "        i = i+1"
   ],
   "outputs": [],
   "metadata": {}
  },
  {
   "cell_type": "code",
   "execution_count": null,
   "source": [
    "def getAllPriceData(coinList, startIdx, endIdx):\n",
    "    i = 0\n",
    "    for coinId in tqdm_notebook(coinList[startIdx:endIdx]):\n",
    "        \n",
    "        if i % 25 == 0:\n",
    "            print('waiting...')\n",
    "            sleep(60)\n",
    "            print('done. continuing...')\n",
    "            \n",
    "        try:\n",
    "            pMax, vMax = getCoinMarketData(coinId, 'usd', 'max', 'daily')\n",
    "            pNinety, vNinety = getCoinMarketData(coinId, 'usd', '90', 'hourly')\n",
    "            \n",
    "            pMax.to_csv('tokenPriceData/'+coinId+'_max_price_daily.csv')\n",
    "            vMax.to_csv('tokenPriceData/'+coinId+'_max_vol_daily.csv')\n",
    "            \n",
    "            pNinety.to_csv('tokenPriceData/'+coinId+'_90_price_hourly.csv')\n",
    "            vNinety.to_csv('tokenPriceData/'+coinId+'_90_vol_hourly.csv')\n",
    "            \n",
    "            print('Index:', i, '| Id:', coinId, '| Success.')\n",
    "            \n",
    "        except:\n",
    "            print('Index:', i, '| Id:', coinId, '| Error.')\n",
    "            \n",
    "        i = i+1"
   ],
   "outputs": [],
   "metadata": {}
  },
  {
   "cell_type": "code",
   "execution_count": null,
   "source": [
    "coinList = getListedCoinNames('id')"
   ],
   "outputs": [],
   "metadata": {}
  },
  {
   "cell_type": "code",
   "execution_count": null,
   "source": [
    "#getAllCoinData(coinList, 0, len(coinList))"
   ],
   "outputs": [],
   "metadata": {}
  },
  {
   "cell_type": "markdown",
   "source": [
    "### single token info"
   ],
   "metadata": {}
  },
  {
   "cell_type": "code",
   "execution_count": null,
   "source": [
    "matchedName = getClosestNameMatch(coinList, coinId)"
   ],
   "outputs": [],
   "metadata": {}
  },
  {
   "cell_type": "code",
   "execution_count": null,
   "source": [
    "coinId = 'COIN_ID'"
   ],
   "outputs": [],
   "metadata": {}
  },
  {
   "cell_type": "code",
   "execution_count": null,
   "source": [
    "p1, v1 = getCoinMarketData(coinId, 'usd', 'max', 'daily')"
   ],
   "outputs": [],
   "metadata": {}
  },
  {
   "cell_type": "code",
   "execution_count": null,
   "source": [
    "p2, v2 = getCoinMarketData(coinId, 'usd', '90', 'hourly')"
   ],
   "outputs": [],
   "metadata": {}
  },
  {
   "cell_type": "code",
   "execution_count": null,
   "source": [
    "e = getCoinInfo(coinId)"
   ],
   "outputs": [],
   "metadata": {}
  },
  {
   "cell_type": "code",
   "execution_count": null,
   "source": [
    "a = combineCoinInfo(e, priceSeries)"
   ],
   "outputs": [],
   "metadata": {}
  },
  {
   "cell_type": "code",
   "execution_count": null,
   "source": [],
   "outputs": [],
   "metadata": {}
  }
 ],
 "metadata": {
  "kernelspec": {
   "display_name": "Python 3",
   "language": "python",
   "name": "python3"
  },
  "language_info": {
   "codemirror_mode": {
    "name": "ipython",
    "version": 3
   },
   "file_extension": ".py",
   "mimetype": "text/x-python",
   "name": "python",
   "nbconvert_exporter": "python",
   "pygments_lexer": "ipython3",
   "version": "3.8.3"
  }
 },
 "nbformat": 4,
 "nbformat_minor": 4
}